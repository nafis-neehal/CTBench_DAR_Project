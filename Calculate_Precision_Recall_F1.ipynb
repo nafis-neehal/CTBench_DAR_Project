{
 "cells": [
  {
   "cell_type": "markdown",
   "metadata": {},
   "source": [
    "In this notebook, we will \n",
    "- load JSON data of a single trial from directory\n",
    "- load the matching evaluation response by GPT-4 Omni for any of the 4 generation models \n",
    "- calculate the precision, recall and f1 score for that matched set "
   ]
  },
  {
   "cell_type": "code",
   "execution_count": 1,
   "metadata": {},
   "outputs": [],
   "source": [
    "import pandas as pd \n",
    "import numpy as np \n",
    "import json \n",
    "import os "
   ]
  },
  {
   "cell_type": "markdown",
   "metadata": {},
   "source": [
    "## Step 1: Load JSON data of a trial \n",
    "Let's load a CT-Pub trial."
   ]
  },
  {
   "cell_type": "code",
   "execution_count": 13,
   "metadata": {},
   "outputs": [],
   "source": [
    "import os\n",
    "\n",
    "# Specify the directory path\n",
    "directory_path = 'results/ct_pub/'\n",
    "\n",
    "# List all files in the directory\n",
    "file_list = os.listdir(directory_path)\n",
    "\n",
    "#we will only look at the first trial file as example\n",
    "for file in file_list:\n",
    "    # Read the JSON file\n",
    "    with open(directory_path + file) as f:\n",
    "        data = json.load(f)\n",
    "    \n",
    "    #stopping the loop here after the first trial is loaded\n",
    "    break "
   ]
  },
  {
   "cell_type": "code",
   "execution_count": 15,
   "metadata": {},
   "outputs": [
    {
     "name": "stdout",
     "output_type": "stream",
     "text": [
      "{\n",
      "    \"trial_id\": \"NCT02003963\",\n",
      "    \"trial_group\": \"obesity\",\n",
      "    \"generated-by-gpt4-omni-zs\": {\n",
      "        \"gen-response\": \"Age, Gender, Menstrual Status, BMI Percentile, Language Proficiency, Willingness to Accept Randomization, Pregnancy Status, Mental Health Hospitalization History, Ambulation Ability, Cardiac Health, Cardiovascular Disease History, Musculoskeletal Health, Presence of Implanted Medical Devices, Ability to Complete Baseline Testing, Medical Conditions Affecting Video Game Play, Family History of Epileptic Seizures, Commitment to Study Sessions\",\n",
      "        \"evaluated-by-gpt4-omni\": {\n",
      "            \"matched_features\": [\n",
      "                [\n",
      "                    \"Age\",\n",
      "                    \"Age\"\n",
      "                ],\n",
      "                [\n",
      "                    \"BMI (percentile)\",\n",
      "                    \"BMI Percentile\"\n",
      "                ]\n",
      "            ],\n",
      "            \"remaining_reference_features\": [\n",
      "                \"Race\",\n",
      "                \"Weight\",\n",
      "                \"Height\",\n",
      "                \"BMI (z-score)\",\n",
      "                \"Waist circumference\",\n",
      "                \"Total body fat\",\n",
      "                \"Leg fat\",\n",
      "                \"Gynoid fat\",\n",
      "                \"Android fat\",\n",
      "                \"Trunk fat\",\n",
      "                \"BMC\",\n",
      "                \"BMD trunk\",\n",
      "                \"BMD spine\",\n",
      "                \"BMD leg\",\n",
      "                \"MRI-Visceral adipose tissue\",\n",
      "                \"MRI-Subcutaneous adipose tissue\",\n",
      "                \"MRI-Total adipose tissue\",\n",
      "                \"SBP\",\n",
      "                \"DBP\",\n",
      "                \"Cholesterol\",\n",
      "                \"HDL-C\",\n",
      "                \"LDL-C\",\n",
      "                \"Triglycerides\",\n",
      "                \"Glucose\",\n",
      "                \"Insulin\"\n",
      "            ],\n",
      "            \"remaining_candidate_features\": [\n",
      "                \"Gender\",\n",
      "                \"Menstrual Status\",\n",
      "                \"Language Proficiency\",\n",
      "                \"Willingness to Accept Randomization\",\n",
      "                \"Pregnancy Status\",\n",
      "                \"Mental Health Hospitalization History\",\n",
      "                \"Ambulation Ability\",\n",
      "                \"Cardiac Health\",\n",
      "                \"Cardiovascular Disease History\",\n",
      "                \"Musculoskeletal Health\",\n",
      "                \"Presence of Implanted Medical Devices\",\n",
      "                \"Ability to Complete Baseline Testing\",\n",
      "                \"Medical Conditions Affecting Video Game Play\",\n",
      "                \"Family History of Epileptic Seizures\",\n",
      "                \"Commitment to Study Sessions\"\n",
      "            ]\n",
      "        }\n",
      "    },\n",
      "    \"generated-by-gpt4-omni-ts\": {\n",
      "        \"gen-response\": \"Age, Sex, BMI, BMI percentile, Ethnicity, Socioeconomic status, Physical activity level, Dietary habits, Blood pressure, Heart rate, Body fat percentage, Visceral fat, Self-confidence, Quality of life, Screen time, Family history of cardiovascular disease, Mental health status, Menstrual status\",\n",
      "        \"evaluated-by-gpt4-omni\": {\n",
      "            \"matched_features\": [\n",
      "                [\n",
      "                    \"Age\",\n",
      "                    \"Age\"\n",
      "                ],\n",
      "                [\n",
      "                    \"BMI (percentile)\",\n",
      "                    \"BMI percentile\"\n",
      "                ],\n",
      "                [\n",
      "                    \"Total body fat\",\n",
      "                    \"Body fat percentage\"\n",
      "                ],\n",
      "                [\n",
      "                    \"MRI-Visceral adipose tissue\",\n",
      "                    \"Visceral fat\"\n",
      "                ],\n",
      "                [\n",
      "                    \"SBP\",\n",
      "                    \"Blood pressure\"\n",
      "                ]\n",
      "            ],\n",
      "            \"remaining_reference_features\": [\n",
      "                \"Race\",\n",
      "                \"Weight\",\n",
      "                \"Height\",\n",
      "                \"BMI (z-score)\",\n",
      "                \"Waist circumference\",\n",
      "                \"Leg fat\",\n",
      "                \"Gynoid fat\",\n",
      "                \"Android fat\",\n",
      "                \"Trunk fat\",\n",
      "                \"BMC\",\n",
      "                \"BMD trunk\",\n",
      "                \"BMD spine\",\n",
      "                \"BMD leg\",\n",
      "                \"MRI-Subcutaneous adipose tissue\",\n",
      "                \"MRI-Total adipose tissue\",\n",
      "                \"DBP\",\n",
      "                \"Cholesterol\",\n",
      "                \"HDL-C\",\n",
      "                \"LDL-C\",\n",
      "                \"Triglycerides\",\n",
      "                \"Glucose\",\n",
      "                \"Insulin\"\n",
      "            ],\n",
      "            \"remaining_candidate_features\": [\n",
      "                \"Sex\",\n",
      "                \"BMI\",\n",
      "                \"Ethnicity\",\n",
      "                \"Socioeconomic status\",\n",
      "                \"Physical activity level\",\n",
      "                \"Dietary habits\",\n",
      "                \"Heart rate\",\n",
      "                \"Self-confidence\",\n",
      "                \"Quality of life\",\n",
      "                \"Screen time\",\n",
      "                \"Family history of cardiovascular disease\",\n",
      "                \"Mental health status\",\n",
      "                \"Menstrual status\"\n",
      "            ]\n",
      "        }\n",
      "    },\n",
      "    \"generated-by-llama3-70b-in-ts\": {\n",
      "        \"gen-response\": \"Age, Sex, Ethnicity, BMI, BMI percentile, Menarcheal status, English proficiency, Pregnancy status, History of mental illness, History of cardiac abnormality, History of cardiovascular disease, History of musculoskeletal injuries, Presence of pacemaker or implanted medical device, Family history of epileptic seizures.\",\n",
      "        \"evaluated-by-gpt4-omni\": {\n",
      "            \"matched_features\": [\n",
      "                [\n",
      "                    \"Age\",\n",
      "                    \"Age\"\n",
      "                ],\n",
      "                [\n",
      "                    \"BMI (percentile)\",\n",
      "                    \"BMI percentile\"\n",
      "                ]\n",
      "            ],\n",
      "            \"remaining_reference_features\": [\n",
      "                \"Race\",\n",
      "                \"Weight\",\n",
      "                \"Height\",\n",
      "                \"BMI (z-score)\",\n",
      "                \"Waist circumference\",\n",
      "                \"Total body fat\",\n",
      "                \"Leg fat\",\n",
      "                \"Gynoid fat\",\n",
      "                \"Android fat\",\n",
      "                \"Trunk fat\",\n",
      "                \"BMC\",\n",
      "                \"BMD trunk\",\n",
      "                \"BMD spine\",\n",
      "                \"BMD leg\",\n",
      "                \"MRI-Visceral adipose tissue\",\n",
      "                \"MRI-Subcutaneous adipose tissue\",\n",
      "                \"MRI-Total adipose tissue\",\n",
      "                \"SBP\",\n",
      "                \"DBP\",\n",
      "                \"Cholesterol\",\n",
      "                \"HDL-C\",\n",
      "                \"LDL-C\",\n",
      "                \"Triglycerides\",\n",
      "                \"Glucose\",\n",
      "                \"Insulin\"\n",
      "            ],\n",
      "            \"remaining_candidate_features\": [\n",
      "                \"Sex\",\n",
      "                \"Ethnicity\",\n",
      "                \"BMI\",\n",
      "                \"Menarcheal status\",\n",
      "                \"English proficiency\",\n",
      "                \"Pregnancy status\",\n",
      "                \"History of mental illness\",\n",
      "                \"History of cardiac abnormality\",\n",
      "                \"History of cardiovascular disease\",\n",
      "                \"History of musculoskeletal injuries\",\n",
      "                \"Presence of pacemaker or implanted medical device\",\n",
      "                \"Family history of epileptic seizures\"\n",
      "            ]\n",
      "        }\n",
      "    },\n",
      "    \"generated-by-llama3-70b-in-zs\": {\n",
      "        \"gen-response\": \"Age, sex, BMI percentile, menarcheal status, English language proficiency, randomization acceptance, pregnancy status, history of mental illness, ambulation ability, electrocardiogram results, cardiovascular disease history, musculoskeletal injury history, pacemaker or implanted medical device presence, seizure history, family seizure history, commitment to weekly gaming sessions.\",\n",
      "        \"evaluated-by-gpt4-omni\": {\n",
      "            \"matched_features\": [\n",
      "                [\n",
      "                    \"Age\",\n",
      "                    \"Age\"\n",
      "                ],\n",
      "                [\n",
      "                    \"BMI (percentile)\",\n",
      "                    \"BMI percentile\"\n",
      "                ]\n",
      "            ],\n",
      "            \"remaining_reference_features\": [\n",
      "                \"Race\",\n",
      "                \"Weight\",\n",
      "                \"Height\",\n",
      "                \"BMI (z-score)\",\n",
      "                \"Waist circumference\",\n",
      "                \"Total body fat\",\n",
      "                \"Leg fat\",\n",
      "                \"Gynoid fat\",\n",
      "                \"Android fat\",\n",
      "                \"Trunk fat\",\n",
      "                \"BMC\",\n",
      "                \"BMD trunk\",\n",
      "                \"BMD spine\",\n",
      "                \"BMD leg\",\n",
      "                \"MRI-Visceral adipose tissue\",\n",
      "                \"MRI-Subcutaneous adipose tissue\",\n",
      "                \"MRI-Total adipose tissue\",\n",
      "                \"SBP\",\n",
      "                \"DBP\",\n",
      "                \"Cholesterol\",\n",
      "                \"HDL-C\",\n",
      "                \"LDL-C\",\n",
      "                \"Triglycerides\",\n",
      "                \"Glucose\",\n",
      "                \"Insulin\"\n",
      "            ],\n",
      "            \"remaining_candidate_features\": [\n",
      "                \"sex\",\n",
      "                \"menarcheal status\",\n",
      "                \"English language proficiency\",\n",
      "                \"randomization acceptance\",\n",
      "                \"pregnancy status\",\n",
      "                \"history of mental illness\",\n",
      "                \"ambulation ability\",\n",
      "                \"electrocardiogram results\",\n",
      "                \"cardiovascular disease history\",\n",
      "                \"musculoskeletal injury history\",\n",
      "                \"pacemaker or implanted medical device presence\",\n",
      "                \"seizure history\",\n",
      "                \"family seizure history\",\n",
      "                \"commitment to weekly gaming sessions.\"\n",
      "            ]\n",
      "        }\n",
      "    }\n",
      "}\n"
     ]
    }
   ],
   "source": [
    "# content of the first file \n",
    "print(json.dumps(data, indent=4))"
   ]
  },
  {
   "cell_type": "markdown",
   "metadata": {},
   "source": [
    "## Step 2: Extract the matching results for a generation model\n",
    "Let's look at the GPT-4 evaluation of gpt4-omni-ts (baseline measures generated by GPT-4 omni in three-shot setting and then evaluated by GPT-4 omni)."
   ]
  },
  {
   "cell_type": "code",
   "execution_count": 5,
   "metadata": {},
   "outputs": [],
   "source": [
    "matched_features = data['generated-by-gpt4-omni-ts']['evaluated-by-gpt4-omni']['matched_features']\n",
    "remaining_reference_features = data['generated-by-gpt4-omni-ts']['evaluated-by-gpt4-omni']['remaining_reference_features']\n",
    "remaining_candidate_features = data['generated-by-gpt4-omni-ts']['evaluated-by-gpt4-omni']['remaining_candidate_features']"
   ]
  },
  {
   "cell_type": "code",
   "execution_count": 16,
   "metadata": {},
   "outputs": [
    {
     "name": "stdout",
     "output_type": "stream",
     "text": [
      "Matched Features:  [['Age', 'Age'], ['BMI (percentile)', 'BMI percentile'], ['Total body fat', 'Body fat percentage'], ['MRI-Visceral adipose tissue', 'Visceral fat'], ['SBP', 'Blood pressure']]\n"
     ]
    }
   ],
   "source": [
    "# NOTE: in each pair, the first one comes from Reference (API/Paper) \n",
    "# and the second one comes from Candidate(generated LLM features)\n",
    "print('Matched Features: ', matched_features)"
   ]
  },
  {
   "cell_type": "code",
   "execution_count": 7,
   "metadata": {},
   "outputs": [
    {
     "name": "stdout",
     "output_type": "stream",
     "text": [
      "Remaining Reference Features:  ['Race', 'Weight', 'Height', 'BMI (z-score)', 'Waist circumference', 'Leg fat', 'Gynoid fat', 'Android fat', 'Trunk fat', 'BMC', 'BMD trunk', 'BMD spine', 'BMD leg', 'MRI-Subcutaneous adipose tissue', 'MRI-Total adipose tissue', 'DBP', 'Cholesterol', 'HDL-C', 'LDL-C', 'Triglycerides', 'Glucose', 'Insulin']\n"
     ]
    }
   ],
   "source": [
    "print('Remaining Reference Features: ', remaining_reference_features)\n"
   ]
  },
  {
   "cell_type": "code",
   "execution_count": 8,
   "metadata": {},
   "outputs": [
    {
     "name": "stdout",
     "output_type": "stream",
     "text": [
      "Remaining Candidate Features:  ['Sex', 'BMI', 'Ethnicity', 'Socioeconomic status', 'Physical activity level', 'Dietary habits', 'Heart rate', 'Self-confidence', 'Quality of life', 'Screen time', 'Family history of cardiovascular disease', 'Mental health status', 'Menstrual status']\n"
     ]
    }
   ],
   "source": [
    "print('Remaining Candidate Features: ', remaining_candidate_features)"
   ]
  },
  {
   "cell_type": "markdown",
   "metadata": {},
   "source": [
    "## Step 3: Calculate Precision, Recall and F1 score for this matching"
   ]
  },
  {
   "cell_type": "code",
   "execution_count": 17,
   "metadata": {},
   "outputs": [],
   "source": [
    "def match_to_score(matched_pairs, remaining_reference_features, remaining_candidate_features):\n",
    "    \"\"\"\n",
    "    Calculates precision, recall, and F1 score based on the given matched pairs and remaining features.\n",
    "\n",
    "    Parameters:\n",
    "    matched_pairs (list): A list of matched feature pairs.\n",
    "    remaining_reference_features (list): A list of remaining reference features.\n",
    "    remaining_candidate_features (list): A list of remaining candidate features.\n",
    "\n",
    "    Returns:\n",
    "    dict: A dictionary containing the precision, recall, and F1 score.\n",
    "    \"\"\"\n",
    "    precision = len(matched_pairs) / (len(matched_pairs) + len(remaining_candidate_features)) # TP/(TP+FP)\n",
    "    recall = len(matched_pairs) /  (len(matched_pairs) + len(remaining_reference_features)) #TP/(TP+FN)\n",
    "    \n",
    "    if precision == 0 or recall == 0:\n",
    "        f1 = 0\n",
    "    else:\n",
    "        f1 = 2 * (precision * recall) / (precision + recall) # F1\n",
    "\n",
    "    return {\"precision\": precision, \"recall\": recall, \"f1\": f1}"
   ]
  },
  {
   "cell_type": "code",
   "execution_count": 18,
   "metadata": {},
   "outputs": [],
   "source": [
    "# Calculate the precision, recall, and F1 score\n",
    "result = match_to_score(matched_features, remaining_reference_features, remaining_candidate_features)"
   ]
  },
  {
   "cell_type": "code",
   "execution_count": 19,
   "metadata": {},
   "outputs": [
    {
     "name": "stdout",
     "output_type": "stream",
     "text": [
      "Precision:  0.2777777777777778\n",
      "Recall:  0.18518518518518517\n",
      "F1 Score:  0.22222222222222224\n"
     ]
    }
   ],
   "source": [
    "# Print the results\n",
    "print('Precision: ', result['precision'])\n",
    "print('Recall: ', result['recall'])\n",
    "print('F1 Score: ', result['f1'])"
   ]
  }
 ],
 "metadata": {
  "kernelspec": {
   "display_name": "ctbench_dar_venv",
   "language": "python",
   "name": "python3"
  },
  "language_info": {
   "codemirror_mode": {
    "name": "ipython",
    "version": 3
   },
   "file_extension": ".py",
   "mimetype": "text/x-python",
   "name": "python",
   "nbconvert_exporter": "python",
   "pygments_lexer": "ipython3",
   "version": "3.9.6"
  }
 },
 "nbformat": 4,
 "nbformat_minor": 2
}
